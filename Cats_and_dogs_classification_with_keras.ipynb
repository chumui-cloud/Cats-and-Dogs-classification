{
  "nbformat": 4,
  "nbformat_minor": 5,
  "metadata": {
    "kernelspec": {
      "display_name": "Python 3 (ipykernel)",
      "language": "python",
      "name": "python3"
    },
    "language_info": {
      "codemirror_mode": {
        "name": "ipython",
        "version": 3
      },
      "file_extension": ".py",
      "mimetype": "text/x-python",
      "name": "python",
      "nbconvert_exporter": "python",
      "pygments_lexer": "ipython3",
      "version": "3.7.5"
    },
    "colab": {
      "name": "Cats_and_dogs classification with keras.ipynb",
      "provenance": [],
      "toc_visible": true
    },
    "accelerator": "GPU"
  },
  "cells": [
    {
      "cell_type": "code",
      "metadata": {
        "id": "5262014d"
      },
      "source": [
        "\n",
        "\n",
        "import numpy as np\n",
        "from keras.preprocessing.image import load_img\n",
        "from keras.preprocessing.image import img_to_array\n",
        "from keras.applications.vgg16 import preprocess_input\n",
        "from keras.applications.vgg16 import decode_predictions\n",
        "from keras.applications.vgg16 import VGG16"
      ],
      "id": "5262014d",
      "execution_count": null,
      "outputs": []
    },
    {
      "cell_type": "code",
      "metadata": {
        "colab": {
          "base_uri": "https://localhost:8080/"
        },
        "id": "246b7d06",
        "outputId": "8024e8ad-ba71-432e-b803-c35f65e02085"
      },
      "source": [
        "from keras.models import Model\n",
        "from keras.layers import Dense\n",
        "from keras.layers import Flatten\n",
        "model= VGG16(include_top= False, input_shape=(64,64,3))\n",
        "for layer in model.layers:\n",
        "    layer.trainable = False\n",
        "flat1= Flatten()(model.layers[-1].output)\n",
        "class1= Dense(1024,activation=\"relu\")(flat1)\n",
        "output = Dense(1, activation=\"softmax\")(class1)\n",
        "model = Model(inputs=model.inputs, outputs=output)\n",
        "#classifier = Sequential()"
      ],
      "id": "246b7d06",
      "execution_count": null,
      "outputs": [
        {
          "output_type": "stream",
          "name": "stdout",
          "text": [
            "Downloading data from https://storage.googleapis.com/tensorflow/keras-applications/vgg16/vgg16_weights_tf_dim_ordering_tf_kernels_notop.h5\n",
            "58892288/58889256 [==============================] - 1s 0us/step\n",
            "58900480/58889256 [==============================] - 1s 0us/step\n"
          ]
        }
      ]
    },
    {
      "cell_type": "code",
      "metadata": {
        "id": "20873c63"
      },
      "source": [
        "#classifier.add(Conv2D(32,(3,3),input_shape=(64,64,3)))"
      ],
      "id": "20873c63",
      "execution_count": null,
      "outputs": []
    },
    {
      "cell_type": "code",
      "metadata": {
        "id": "378e1721"
      },
      "source": [
        "#classifier.add(Activation('relu'))"
      ],
      "id": "378e1721",
      "execution_count": null,
      "outputs": []
    },
    {
      "cell_type": "code",
      "metadata": {
        "id": "9b57d3d8"
      },
      "source": [
        "#classifier.add(MaxPooling2D(pool_size=(2,2)))"
      ],
      "id": "9b57d3d8",
      "execution_count": null,
      "outputs": []
    },
    {
      "cell_type": "code",
      "metadata": {
        "id": "e1655912"
      },
      "source": [
        "#classifier.add(Conv2D(32,(3,3)))\n",
        "#classifier.add(Activation('relu'))\n",
        "#classifier.add(MaxPooling2D(pool_size=(2,2)))\n",
        "#classifier.add(Conv2D(32,(3,3)))\n",
        "#classifier.add(Activation('relu'))\n",
        "#classifier.add(MaxPooling2D(pool_size=(2,2)))"
      ],
      "id": "e1655912",
      "execution_count": null,
      "outputs": []
    },
    {
      "cell_type": "code",
      "metadata": {
        "id": "8857dc01"
      },
      "source": [
        "#classifier.add(Flatten())"
      ],
      "id": "8857dc01",
      "execution_count": null,
      "outputs": []
    },
    {
      "cell_type": "code",
      "metadata": {
        "id": "b575ce9d"
      },
      "source": [
        "#classifier.add(Dense(64))\n",
        "#classifier.add(Activation('relu'))"
      ],
      "id": "b575ce9d",
      "execution_count": null,
      "outputs": []
    },
    {
      "cell_type": "code",
      "metadata": {
        "id": "7e92566b"
      },
      "source": [
        "#classifier.add(Dropout(0.5))"
      ],
      "id": "7e92566b",
      "execution_count": null,
      "outputs": []
    },
    {
      "cell_type": "code",
      "metadata": {
        "id": "cbdd2f8b"
      },
      "source": [
        "#classifier.add(Dense(1))"
      ],
      "id": "cbdd2f8b",
      "execution_count": null,
      "outputs": []
    },
    {
      "cell_type": "code",
      "metadata": {
        "id": "19c30ce3"
      },
      "source": [
        "#classifier.add(Activation('sigmoid'))"
      ],
      "id": "19c30ce3",
      "execution_count": null,
      "outputs": []
    },
    {
      "cell_type": "code",
      "metadata": {
        "id": "e5270992"
      },
      "source": [
        "model.compile(optimizer='rmsprop',\n",
        "                  loss='binary_crossentropy',\n",
        "                 metrics=['accuracy']\n",
        ")"
      ],
      "id": "e5270992",
      "execution_count": null,
      "outputs": []
    },
    {
      "cell_type": "code",
      "metadata": {
        "id": "a9ffbb28"
      },
      "source": [
        ""
      ],
      "id": "a9ffbb28",
      "execution_count": null,
      "outputs": []
    },
    {
      "cell_type": "code",
      "metadata": {
        "id": "69687067"
      },
      "source": [
        "from keras.preprocessing.image import ImageDataGenerator\n",
        "train_datagen= ImageDataGenerator(rescale= 1./255,\n",
        "                                shear_range=0.2,\n",
        "                                 zoom_range= 0.2,\n",
        "                                horizontal_flip=True)\n",
        "test_datagen= ImageDataGenerator(rescale=1./255)"
      ],
      "id": "69687067",
      "execution_count": null,
      "outputs": []
    },
    {
      "cell_type": "code",
      "metadata": {
        "colab": {
          "base_uri": "https://localhost:8080/"
        },
        "id": "c3e8e44c",
        "outputId": "0bebb45d-9c13-4cd4-a15f-489751173556"
      },
      "source": [
        "model.summary()"
      ],
      "id": "c3e8e44c",
      "execution_count": null,
      "outputs": [
        {
          "output_type": "stream",
          "name": "stdout",
          "text": [
            "Model: \"model\"\n",
            "_________________________________________________________________\n",
            "Layer (type)                 Output Shape              Param #   \n",
            "=================================================================\n",
            "input_1 (InputLayer)         [(None, 64, 64, 3)]       0         \n",
            "_________________________________________________________________\n",
            "block1_conv1 (Conv2D)        (None, 64, 64, 64)        1792      \n",
            "_________________________________________________________________\n",
            "block1_conv2 (Conv2D)        (None, 64, 64, 64)        36928     \n",
            "_________________________________________________________________\n",
            "block1_pool (MaxPooling2D)   (None, 32, 32, 64)        0         \n",
            "_________________________________________________________________\n",
            "block2_conv1 (Conv2D)        (None, 32, 32, 128)       73856     \n",
            "_________________________________________________________________\n",
            "block2_conv2 (Conv2D)        (None, 32, 32, 128)       147584    \n",
            "_________________________________________________________________\n",
            "block2_pool (MaxPooling2D)   (None, 16, 16, 128)       0         \n",
            "_________________________________________________________________\n",
            "block3_conv1 (Conv2D)        (None, 16, 16, 256)       295168    \n",
            "_________________________________________________________________\n",
            "block3_conv2 (Conv2D)        (None, 16, 16, 256)       590080    \n",
            "_________________________________________________________________\n",
            "block3_conv3 (Conv2D)        (None, 16, 16, 256)       590080    \n",
            "_________________________________________________________________\n",
            "block3_pool (MaxPooling2D)   (None, 8, 8, 256)         0         \n",
            "_________________________________________________________________\n",
            "block4_conv1 (Conv2D)        (None, 8, 8, 512)         1180160   \n",
            "_________________________________________________________________\n",
            "block4_conv2 (Conv2D)        (None, 8, 8, 512)         2359808   \n",
            "_________________________________________________________________\n",
            "block4_conv3 (Conv2D)        (None, 8, 8, 512)         2359808   \n",
            "_________________________________________________________________\n",
            "block4_pool (MaxPooling2D)   (None, 4, 4, 512)         0         \n",
            "_________________________________________________________________\n",
            "block5_conv1 (Conv2D)        (None, 4, 4, 512)         2359808   \n",
            "_________________________________________________________________\n",
            "block5_conv2 (Conv2D)        (None, 4, 4, 512)         2359808   \n",
            "_________________________________________________________________\n",
            "block5_conv3 (Conv2D)        (None, 4, 4, 512)         2359808   \n",
            "_________________________________________________________________\n",
            "block5_pool (MaxPooling2D)   (None, 2, 2, 512)         0         \n",
            "_________________________________________________________________\n",
            "flatten (Flatten)            (None, 2048)              0         \n",
            "_________________________________________________________________\n",
            "dense (Dense)                (None, 1024)              2098176   \n",
            "_________________________________________________________________\n",
            "dense_1 (Dense)              (None, 1)                 1025      \n",
            "=================================================================\n",
            "Total params: 16,813,889\n",
            "Trainable params: 2,099,201\n",
            "Non-trainable params: 14,714,688\n",
            "_________________________________________________________________\n"
          ]
        }
      ]
    },
    {
      "cell_type": "code",
      "metadata": {
        "id": "6e755280"
      },
      "source": [
        ""
      ],
      "id": "6e755280",
      "execution_count": null,
      "outputs": []
    },
    {
      "cell_type": "code",
      "metadata": {
        "colab": {
          "base_uri": "https://localhost:8080/"
        },
        "id": "2c6af99b",
        "outputId": "02712a8c-b77e-42c6-d57c-e509fd074f52"
      },
      "source": [
        "training_set= train_datagen.flow_from_directory('/content/drive/MyDrive/dogs-vs-cats/train',\n",
        "                                               target_size=(64,64),\n",
        "                                               batch_size=32,\n",
        "                                               class_mode= 'binary')\n",
        "test_set= test_datagen.flow_from_directory('/content/drive/MyDrive/dogs-vs-cats/test',\n",
        "                                          target_size=(64,64),\n",
        "                                          batch_size=32,\n",
        "                                          class_mode='binary')"
      ],
      "id": "2c6af99b",
      "execution_count": null,
      "outputs": [
        {
          "output_type": "stream",
          "name": "stdout",
          "text": [
            "Found 20030 images belonging to 2 classes.\n",
            "Found 5000 images belonging to 2 classes.\n"
          ]
        }
      ]
    },
    {
      "cell_type": "code",
      "metadata": {
        "colab": {
          "base_uri": "https://localhost:8080/"
        },
        "id": "22444c94",
        "outputId": "5ba6d26c-b13e-46c3-8d43-a7267d31a746"
      },
      "source": [
        "training_set.class_indices"
      ],
      "id": "22444c94",
      "execution_count": null,
      "outputs": [
        {
          "output_type": "execute_result",
          "data": {
            "text/plain": [
              "{'cats': 0, 'dogs': 1}"
            ]
          },
          "metadata": {},
          "execution_count": 10
        }
      ]
    },
    {
      "cell_type": "code",
      "metadata": {
        "colab": {
          "base_uri": "https://localhost:8080/"
        },
        "id": "12008fe8",
        "outputId": "4a5f6d8c-ae81-412a-9faf-a32b0679c8d1"
      },
      "source": [
        "from IPython.display import display\n",
        "from PIL import Image\n",
        "model.fit_generator(training_set,\n",
        "                         steps_per_epoch = 400,\n",
        "                        epochs = 1,\n",
        "                        validation_data= test_set,\n",
        "                        validation_steps = 5000)"
      ],
      "id": "12008fe8",
      "execution_count": null,
      "outputs": [
        {
          "output_type": "stream",
          "name": "stderr",
          "text": [
            "/usr/local/lib/python3.7/dist-packages/keras/engine/training.py:1972: UserWarning: `Model.fit_generator` is deprecated and will be removed in a future version. Please use `Model.fit`, which supports generators.\n",
            "  warnings.warn('`Model.fit_generator` is deprecated and '\n"
          ]
        },
        {
          "output_type": "stream",
          "name": "stdout",
          "text": [
            "400/400 [==============================] - ETA: 0s - loss: 0.5755 - accuracy: 0.4999WARNING:tensorflow:Your input ran out of data; interrupting training. Make sure that your dataset or generator can generate at least `steps_per_epoch * epochs` batches (in this case, 5000 batches). You may need to use the repeat() function when building your dataset.\n",
            "400/400 [==============================] - 3683s 9s/step - loss: 0.5755 - accuracy: 0.4999 - val_loss: 0.4369 - val_accuracy: 0.5000\n"
          ]
        },
        {
          "output_type": "execute_result",
          "data": {
            "text/plain": [
              "<keras.callbacks.History at 0x7f79c6f63c50>"
            ]
          },
          "metadata": {},
          "execution_count": 11
        }
      ]
    },
    {
      "cell_type": "code",
      "metadata": {
        "id": "59a272e9"
      },
      "source": [
        "model.save('catdog_prediction_model.h5')"
      ],
      "id": "59a272e9",
      "execution_count": null,
      "outputs": []
    },
    {
      "cell_type": "code",
      "metadata": {
        "colab": {
          "base_uri": "https://localhost:8080/"
        },
        "id": "JUKfmE-vaskM",
        "outputId": "04dbff41-a648-4755-a3db-bcbc852cac27"
      },
      "source": [
        "from google.colab import drive\n",
        "drive.mount('/content/drive')"
      ],
      "id": "JUKfmE-vaskM",
      "execution_count": null,
      "outputs": [
        {
          "output_type": "stream",
          "name": "stdout",
          "text": [
            "Mounted at /content/drive\n"
          ]
        }
      ]
    },
    {
      "cell_type": "code",
      "metadata": {
        "id": "e3c6ba97",
        "outputId": "5569ef05-2446-42e1-ba26-d56ba0e72f3e"
      },
      "source": [
        "import numpy as np\n",
        "from keras.preprocessing import image\n",
        "test_image= image.load_img('C:/Users/DELL/DL-Projects/test_images/c.jpg', target_size=(64,64))\n",
        "test_image= image.img_to_array(test_image)\n",
        "test_image= np.expand_dims(test_image, axis=0)\n",
        "result= model.predict(test_image)\n",
        "if result[0][0] >= 0.5:\n",
        "    prediction = 'dog'\n",
        "else:\n",
        "    prediction= 'cat'\n",
        "print(prediction)"
      ],
      "id": "e3c6ba97",
      "execution_count": null,
      "outputs": [
        {
          "name": "stdout",
          "output_type": "stream",
          "text": [
            "cat\n"
          ]
        }
      ]
    },
    {
      "cell_type": "code",
      "metadata": {
        "id": "3e40e7d9"
      },
      "source": [
        ""
      ],
      "id": "3e40e7d9",
      "execution_count": null,
      "outputs": []
    }
  ]
}